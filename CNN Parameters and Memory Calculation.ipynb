{
 "cells": [
  {
   "cell_type": "markdown",
   "metadata": {},
   "source": [
    "### CNN Memory and Parameter Calculation\n",
    "\n",
    "\n",
    "Below is my practice for a question from [Hands on Tensorflow](http://shop.oreilly.com/product/0636920052289.do).Consider a CNN composed of three convolutional layers, each with 3 × 3 kernels,\n",
    "a stride of 2, and SAME padding (op = ip dimension). The lowest layer outputs 100 feature maps, the\n",
    "middle one outputs 200, and the top one outputs 400. \n",
    "\n",
    "The input images are RGB images of 200 × 300 pixels. \n",
    "\n",
    "**Q1**: What is the total number of parameters in the CNN?If we are using 32-bit floats (4 bits), at least how much RAM will this network require when making a prediction for a single instance? \n",
    "\n",
    "\n",
    "**Q2**: What about when training on a mini-batch of 50 images?\n",
    "\n",
    "|Input $200*300*3$|Memory: $200*300*3$ = 0.18M|Weights: 0|\n",
    "|:------:|:-------:|:-------:|\n",
    "|Conv3 - 100: [$100*150*100$]|Memory: $100*150*100$ = 1.25M|Weights: ($3*3*3+1)*100$ = 2.8K|\n",
    "|Conv3 - 200: [$50*75*200$]|Memory: $50*75*200$ = 0.75M|Weights: ($3*3*100+1)*200$ = 180,200K|\n",
    "|Conv3 - 400:[$25*38*400$]|Memory: $25*38*400$ = 0.38M|Weights: $(3*3*200+1)*400$ = 720,400K|\n",
    "\n",
    "\n",
    "\n",
    "**Total memory**:<br> \n",
    "- 10.24Mil bits~ 4*(0.18+1.25+0.75+0.38)/image (forward)\n",
    "- For 50 images:  512MB = 50 x 10.24MB<br>\n",
    "\n",
    "**Total parameters**:<br>\n",
    "- 7.2MB = 2 x 3.6MB Forward&Backward\n",
    "- 902.7K * 4 bits = 3.6Mil bits/(forward)\n",
    "\n",
    "**Calculation of the spatial size of the output volume for CNN**:\n",
    " $$(W - F + 2P)/S + 1$$\n",
    " \n",
    "- $W$ is the input volume size.\n",
    "- $F$ is the filter size.\n",
    "- $S$ is stride.\n",
    "- $P$ is the amount of zero padding on border.\n",
    "\n",
    "**Reference**:A clear demonstration of how to calculation Vgg-16 memory and parameters, as well as calculation of the output spatial size. [cs231n](http://cs231n.github.io/convolutional-networks/)"
   ]
  },
  {
   "cell_type": "code",
   "execution_count": null,
   "metadata": {
    "collapsed": true
   },
   "outputs": [],
   "source": []
  }
 ],
 "metadata": {
  "anaconda-cloud": {},
  "kernelspec": {
   "display_name": "Python [conda env:py2]",
   "language": "python",
   "name": "conda-env-py2-py"
  },
  "language_info": {
   "codemirror_mode": {
    "name": "ipython",
    "version": 2
   },
   "file_extension": ".py",
   "mimetype": "text/x-python",
   "name": "python",
   "nbconvert_exporter": "python",
   "pygments_lexer": "ipython2",
   "version": "2.7.13"
  }
 },
 "nbformat": 4,
 "nbformat_minor": 2
}
